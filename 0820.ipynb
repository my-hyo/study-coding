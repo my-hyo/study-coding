{
 "cells": [
  {
   "cell_type": "markdown",
   "id": "9b695a4b-dab4-491d-a445-da7a7d01f181",
   "metadata": {},
   "source": [
    "# LeetCode Algorithm I\n",
    "## Day 1 Binary Search"
   ]
  },
  {
   "cell_type": "markdown",
   "id": "6cc3fa27-ce0f-43fb-9647-5cef4babf565",
   "metadata": {},
   "source": [
    "## 704. Binary Search (Easy)\n",
    "Given an array of integers nums which is sorted in ascending order, and an integer target, write a function to search target in nums. If target exists, then return its index. Otherwise, return -1.\n",
    "\n",
    "You must write an algorithm with O(log n) runtime complexity.\n",
    "\n",
    "\n",
    "Example 1:\n",
    "```\n",
    "Input: nums = [-1,0,3,5,9,12], target = 9\n",
    "Output: 4\n",
    "Explanation: 9 exists in nums and its index is 4\n",
    "```\n",
    "Example 2:\n",
    "```\n",
    "Input: nums = [-1,0,3,5,9,12], target = 2\n",
    "Output: -1\n",
    "Explanation: 2 does not exist in nums so return -1\n",
    "```\n",
    "Constraints:\n",
    "```\n",
    "- 1 <= nums.length <= 10^4\n",
    "- -10^4 < nums[i], target < 10^4\n",
    "- All the integers in nums are unique.\n",
    "- nums is sorted in ascending order.\n",
    "```"
   ]
  },
  {
   "cell_type": "code",
   "execution_count": 9,
   "id": "e95d4775-5922-408f-833e-dfa955cbb9bc",
   "metadata": {},
   "outputs": [],
   "source": [
    "from typing import List\n",
    "\n",
    "class Solution:\n",
    "    def search(self, nums: List[int], target: int) -> int:\n",
    "        start_idx = 0\n",
    "        end_idx = len(nums)-1\n",
    "\n",
    "        ans = -1\n",
    "        while start_idx <= end_idx:\n",
    "            sc_idx = (start_idx+end_idx) // 2\n",
    "            if nums[sc_idx] == target:\n",
    "                ans = sc_idx\n",
    "                break\n",
    "            elif nums[sc_idx] > target:\n",
    "                end_idx = sc_idx-1\n",
    "            else:\n",
    "                start_idx = sc_idx+1\n",
    "        return ans"
   ]
  },
  {
   "cell_type": "code",
   "execution_count": 10,
   "id": "ca1a48d6-d1fa-42f3-8171-8f0f2ecf2fd1",
   "metadata": {},
   "outputs": [
    {
     "data": {
      "text/plain": [
       "-1"
      ]
     },
     "execution_count": 10,
     "metadata": {},
     "output_type": "execute_result"
    }
   ],
   "source": [
    "s = Solution()\n",
    "s.search(nums=[-1,0,3,5,9,12], target=2)"
   ]
  },
  {
   "cell_type": "markdown",
   "id": "bb15f0d7-0227-40ab-84ba-f42881efea5a",
   "metadata": {},
   "source": [
    "## 278. First Bad Version (Easy)\n",
    "\n",
    "You are a product manager and currently leading a team to develop a new product. Unfortunately, the latest version of your product fails the quality check. Since each version is developed based on the previous version, all the versions after a bad version are also bad.\n",
    "\n",
    "Suppose you have n versions [1, 2, ..., n] and you want to find out the first bad one, which causes all the following ones to be bad.\n",
    "\n",
    "You are given an API bool isBadVersion(version) which returns whether version is bad. Implement a function to find the first bad version. You should minimize the number of calls to the API.\n",
    "\n",
    "\n",
    "Example 1:\n",
    "```\n",
    "Input: n = 5, bad = 4\n",
    "Output: 4\n",
    "Explanation:\n",
    "call isBadVersion(3) -> false\n",
    "call isBadVersion(5) -> true\n",
    "call isBadVersion(4) -> true\n",
    "Then 4 is the first bad version.\n",
    "```\n",
    "Example 2:\n",
    "```\n",
    "Input: n = 1, bad = 1\n",
    "Output: 1\n",
    "```\n",
    "Constraints:\n",
    "```\n",
    "1 <= bad <= n <= 2^31 - 1\n",
    "```\n"
   ]
  },
  {
   "cell_type": "code",
   "execution_count": 11,
   "id": "e07a6b37-37a9-4350-bd35-edb0049c4db7",
   "metadata": {},
   "outputs": [],
   "source": [
    "# The isBadVersion API is already defined for you.\n",
    "# def isBadVersion(version: int) -> bool:\n",
    "\n",
    "class Solution:\n",
    "    def firstBadVersion(self, n: int) -> int:\n",
    "        start_ver = 1\n",
    "        end_ver = n\n",
    "        ans = -1\n",
    "        while start_ver <= end_ver:\n",
    "            chk_ver = (start_ver+end_ver)//2\n",
    "            if isBadVersion(chk_ver):\n",
    "                if not isBadVersion(chk_ver-1):\n",
    "                    ans = chk_ver\n",
    "                    break\n",
    "                end_ver = chk_ver-1\n",
    "            else:\n",
    "                start_ver = chk_ver+1\n",
    "        return ans"
   ]
  },
  {
   "cell_type": "markdown",
   "id": "4dc7acc1-12da-430b-992b-be0f21bffb12",
   "metadata": {},
   "source": [
    "## 35. Search Insert Position (Easy)\n",
    "\n",
    "Given a sorted array of distinct integers and a target value, return the index if the target is found. If not, return the index where it would be if it were inserted in order.\n",
    "\n",
    "You must write an algorithm with O(log n) runtime complexity.\n",
    "\n",
    "Example:\n",
    "```\n",
    "Input: nums = [1,3,5,6], target = 5\n",
    "Output: 2\n",
    "\n",
    "Input: nums = [1,3,5,6], target = 2\n",
    "Output: 1\n",
    "\n",
    "Input: nums = [1,3,5,6], target = 7\n",
    "Output: 4\n",
    "```\n",
    "\n",
    "Constraints:\n",
    "```\n",
    "1 <= nums.length <= 10^4\n",
    "-10^4 <= nums[i] <= 10^4\n",
    "nums contains distinct values sorted in ascending order.\n",
    "-10^4 <= target <= 10^4\n",
    "```"
   ]
  },
  {
   "cell_type": "code",
   "execution_count": 28,
   "id": "0a2c9144-8f0b-4c86-9d4a-c444b7a4d807",
   "metadata": {},
   "outputs": [],
   "source": [
    "class Solution:\n",
    "    def searchInsert(self, nums: List[int], target: int) -> int:\n",
    "        start_idx = 0\n",
    "        end_idx = len(nums)-1\n",
    "\n",
    "        while start_idx <= end_idx:\n",
    "            chk_idx = (start_idx+end_idx) // 2\n",
    "            if nums[chk_idx] == target:\n",
    "                return chk_idx\n",
    "            elif nums[chk_idx] > target:\n",
    "                end_idx = chk_idx-1\n",
    "            else:\n",
    "                start_idx = chk_idx+1\n",
    "        if nums[chk_idx] < target:\n",
    "            return chk_idx+1\n",
    "        else:\n",
    "            return chk_idx"
   ]
  },
  {
   "cell_type": "code",
   "execution_count": 30,
   "id": "f5a34e32-371b-49b2-8b00-6ef95a090c7d",
   "metadata": {},
   "outputs": [
    {
     "data": {
      "text/plain": [
       "1"
      ]
     },
     "execution_count": 30,
     "metadata": {},
     "output_type": "execute_result"
    }
   ],
   "source": [
    "s = Solution()\n",
    "s.searchInsert(nums=[1,3,5,6], target=2)"
   ]
  },
  {
   "cell_type": "code",
   "execution_count": null,
   "id": "40310675-0dd5-4bce-b41b-5d6b48da2d88",
   "metadata": {},
   "outputs": [],
   "source": []
  }
 ],
 "metadata": {
  "kernelspec": {
   "display_name": "Python 3 (ipykernel)",
   "language": "python",
   "name": "python3"
  },
  "language_info": {
   "codemirror_mode": {
    "name": "ipython",
    "version": 3
   },
   "file_extension": ".py",
   "mimetype": "text/x-python",
   "name": "python",
   "nbconvert_exporter": "python",
   "pygments_lexer": "ipython3",
   "version": "3.8.6"
  }
 },
 "nbformat": 4,
 "nbformat_minor": 5
}
