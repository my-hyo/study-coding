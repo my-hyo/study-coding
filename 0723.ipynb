{
 "cells": [
  {
   "cell_type": "markdown",
   "id": "8d3d5939-aae8-404c-bb66-a7f591936cfd",
   "metadata": {},
   "source": [
    "## 315. Count of Smaller Numbers After Self (Hard)\n",
    "\n",
    "You are given an integer array nums and you have to return a new counts array. The counts array has the property where counts[i] is the number of smaller elements to the right of nums[i].\n",
    "\n",
    "```\n",
    "Input: nums = [5,2,6,1]\n",
    "Output: [2,1,1,0]\n",
    "Explanation:\n",
    "To the right of 5 there are 2 smaller elements (2 and 1).\n",
    "To the right of 2 there is only 1 smaller element (1).\n",
    "To the right of 6 there is 1 smaller element (1).\n",
    "To the right of 1 there is 0 smaller element.\n",
    "```"
   ]
  },
  {
   "cell_type": "code",
   "execution_count": 9,
   "id": "676d2a62-d03e-40a4-9b45-53aee74fb4de",
   "metadata": {},
   "outputs": [
    {
     "name": "stdout",
     "output_type": "stream",
     "text": [
      "Collecting sortedcontainers\n",
      "  Downloading sortedcontainers-2.4.0-py2.py3-none-any.whl (29 kB)\n",
      "Installing collected packages: sortedcontainers\n",
      "Successfully installed sortedcontainers-2.4.0\n"
     ]
    }
   ],
   "source": [
    "! pip install sortedcontainers"
   ]
  },
  {
   "cell_type": "code",
   "execution_count": 10,
   "id": "8fb3407b-82bf-416d-b08f-c4335bb73eb1",
   "metadata": {},
   "outputs": [],
   "source": [
    "from sortedcontainers import SortedList"
   ]
  },
  {
   "cell_type": "code",
   "execution_count": 15,
   "id": "fcac094a-f881-4250-9575-c203f2a56926",
   "metadata": {},
   "outputs": [
    {
     "name": "stdout",
     "output_type": "stream",
     "text": [
      "5::::::2\n",
      "SortedList([1, 2, 6])\n",
      "2::::::1\n",
      "SortedList([1, 6])\n",
      "6::::::1\n",
      "SortedList([1])\n",
      "1::::::0\n",
      "SortedList([])\n"
     ]
    }
   ],
   "source": [
    "nums = [5,2,6,1]\n",
    "sorted_nums = SortedList(nums)\n",
    "sorted_nums.index(6)\n",
    "counts = list()\n",
    "\n",
    "for e in nums:\n",
    "    idx = sorted_nums.index(e)\n",
    "    print(f'{e}::::::{idx}')\n",
    "    counts.append(idx)\n",
    "    sorted_nums.remove(e)\n",
    "    print(sorted_nums)"
   ]
  },
  {
   "cell_type": "code",
   "execution_count": 24,
   "id": "02b10064-74dc-49f7-93f9-7e7831432aca",
   "metadata": {},
   "outputs": [
    {
     "name": "stdout",
     "output_type": "stream",
     "text": [
      "[1, 1, 2, 2, 3, 4, 5, 6]\n",
      "5::::::6\n",
      "=======>[1, 1, 2, 2, 3, 4, 6]\n",
      "2::::::2\n",
      "=======>[1, 1, 2, 3, 4, 6]\n",
      "6::::::5\n",
      "=======>[1, 1, 2, 3, 4]\n",
      "1::::::0\n",
      "=======>[1, 2, 3, 4]\n",
      "1::::::0\n",
      "=======>[2, 3, 4]\n",
      "2::::::0\n",
      "=======>[3, 4]\n",
      "3::::::0\n",
      "=======>[4]\n",
      "4::::::0\n",
      "=======>[]\n"
     ]
    },
    {
     "data": {
      "text/plain": [
       "[6, 2, 5, 0, 0, 0, 0, 0]"
      ]
     },
     "execution_count": 24,
     "metadata": {},
     "output_type": "execute_result"
    }
   ],
   "source": [
    "nums = [5,2,6,1,1,2,3,4]\n",
    "b = sorted(nums)\n",
    "b\n",
    "\n",
    "counts = list()\n",
    "print(b)\n",
    "for e in nums:\n",
    "    idx = b.index(e)\n",
    "    print(f'{e}::::::{idx}')\n",
    "    counts.append(idx)\n",
    "    b.remove(e)\n",
    "    print(f'=======>{b}')\n",
    "counts"
   ]
  },
  {
   "cell_type": "code",
   "execution_count": null,
   "id": "777923cb-4719-4360-908e-0d4db9e9e9cd",
   "metadata": {},
   "outputs": [],
   "source": [
    "# 첫번째 시도\n",
    "# 단순하게 슬라이싱 하면서 값 비교 -> time limit\n",
    "# test case : https://leetcode.com/submissions/detail/754132126/testcase/\n",
    "\n",
    "class Solution:\n",
    "    def countSmaller(self, nums: List[int]) -> List[int]:\n",
    "        counts = list()\n",
    "        for i, n in enumerate(nums):\n",
    "            counts.append(len(list(filter(lambda x: n>x, nums[i:]))))\n",
    "        return counts"
   ]
  },
  {
   "cell_type": "code",
   "execution_count": 29,
   "id": "dc4f2672-20f7-439d-9b04-4cb043bfad51",
   "metadata": {},
   "outputs": [],
   "source": [
    "# 두번째 시도\n",
    "# 정렬된 리스트 활용\n",
    "# 기존 리스트 요소 차례대로 정렬된 리스트에서 해당 인덱스를 찾고, 그 요소는 정렬된 리스트에서 삭제 -> time limit\n",
    "# from sortedcontainers import SortedList 하고 sorted -> SortedList 로 바꾸면 통과됨..\n",
    "class Solution:\n",
    "    def countSmaller(self, nums):\n",
    "        counts = list()\n",
    "        sorted_nums = sorted(nums)\n",
    "        for n in nums:\n",
    "            idx = sorted_nums.index(n)\n",
    "            counts.append(idx)\n",
    "            sorted_nums.remove(n)\n",
    "        return counts"
   ]
  },
  {
   "cell_type": "code",
   "execution_count": 28,
   "id": "f6b123d8-b697-4879-8cb2-a999773a72ea",
   "metadata": {},
   "outputs": [
    {
     "data": {
      "text/plain": [
       "[6, 2, 5, 0, 0, 0, 0, 0]"
      ]
     },
     "execution_count": 28,
     "metadata": {},
     "output_type": "execute_result"
    }
   ],
   "source": [
    "sol = Solution()\n",
    "sol.countSmaller(nums)"
   ]
  },
  {
   "cell_type": "markdown",
   "id": "590ba777-f940-470a-bf28-ea418675c927",
   "metadata": {},
   "source": [
    "## 2208. Minimum Operations to Halve Array Sum (Medium)\n",
    "You are given an array nums of positive integers. In one operation, you can choose any number from nums and reduce it to exactly half the number. (Note that you may choose this reduced number in future operations.)\n",
    "\n",
    "Return the minimum number of operations to reduce the sum of nums by at least half.\n",
    "\n",
    "```\n",
    "Input: nums = [5,19,8,1]\n",
    "Output: 3\n",
    "Explanation: The initial sum of nums is equal to 5 + 19 + 8 + 1 = 33.\n",
    "The following is one of the ways to reduce the sum by at least half:\n",
    "Pick the number 19 and reduce it to 9.5.\n",
    "Pick the number 9.5 and reduce it to 4.75.\n",
    "Pick the number 8 and reduce it to 4.\n",
    "The final array is [5, 4.75, 4, 1] with a total sum of 5 + 4.75 + 4 + 1 = 14.75. \n",
    "The sum of nums has been reduced by 33 - 14.75 = 18.25, which is at least half of the initial sum, 18.25 >= 33/2 = 16.5.\n",
    "Overall, 3 operations were used so we return 3.\n",
    "It can be shown that we cannot reduce the sum by at least half in less than 3\n",
    "```"
   ]
  },
  {
   "cell_type": "code",
   "execution_count": 31,
   "id": "269bb33a-058b-4120-a59f-09426bc4d069",
   "metadata": {},
   "outputs": [],
   "source": [
    "nums = [5,19,8,1]\n",
    "total_n = sum(nums)\n",
    "target_n = total_n/2"
   ]
  },
  {
   "cell_type": "code",
   "execution_count": 33,
   "id": "5ff18248-be22-4d8a-b6cc-67f7b788543b",
   "metadata": {},
   "outputs": [
    {
     "data": {
      "text/plain": [
       "16.5"
      ]
     },
     "execution_count": 33,
     "metadata": {},
     "output_type": "execute_result"
    }
   ],
   "source": [
    "target_n"
   ]
  },
  {
   "cell_type": "code",
   "execution_count": null,
   "id": "ef6061a0-737b-4eaa-8b43-02b6400c47dd",
   "metadata": {},
   "outputs": [],
   "source": []
  },
  {
   "cell_type": "code",
   "execution_count": null,
   "id": "c3411def-5f65-4954-bf52-d4b0e648c974",
   "metadata": {},
   "outputs": [],
   "source": []
  },
  {
   "cell_type": "code",
   "execution_count": null,
   "id": "16f59647-d27f-40f5-b051-3827b2f10f01",
   "metadata": {},
   "outputs": [],
   "source": [
    "# sum(transform list) <= sum(origin list)/2\n",
    "class Solution:\n",
    "    def halveArray(self, nums: List[int]) -> int:"
   ]
  },
  {
   "cell_type": "code",
   "execution_count": null,
   "id": "cf9c391e-c504-48a5-9aed-281f868a4918",
   "metadata": {},
   "outputs": [],
   "source": []
  },
  {
   "cell_type": "code",
   "execution_count": null,
   "id": "527bcbc4-31d8-46e0-8be7-6bdd9c912ad7",
   "metadata": {},
   "outputs": [],
   "source": []
  },
  {
   "cell_type": "code",
   "execution_count": null,
   "id": "338525a3-11ec-40ad-9c06-1db41de15234",
   "metadata": {},
   "outputs": [],
   "source": []
  },
  {
   "cell_type": "code",
   "execution_count": null,
   "id": "1a559f73-319f-4dfc-b98a-9e16d92b31ad",
   "metadata": {},
   "outputs": [],
   "source": []
  },
  {
   "cell_type": "markdown",
   "id": "ec43a509-a55a-4d2d-9e6c-1c6d2d43683a",
   "metadata": {},
   "source": [
    "## 506. Relative Ranks (Easy)\n",
    "\n",
    "You are given an integer array score of size n, where score[i] is the score of the ith athlete in a competition. All the scores are guaranteed to be unique.\n",
    "\n",
    "The athletes are placed based on their scores, where the 1st place athlete has the highest score, the 2nd place athlete has the 2nd highest score, and so on. The placement of each athlete determines their rank:\n",
    "\n",
    "The 1st place athlete's rank is \"Gold Medal\".\n",
    "The 2nd place athlete's rank is \"Silver Medal\".\n",
    "The 3rd place athlete's rank is \"Bronze Medal\".\n",
    "For the 4th place to the nth place athlete, their rank is their placement number (i.e., the xth place athlete's rank is \"x\").\n",
    "Return an array answer of size n where answer[i] is the rank of the ith athlete.\n",
    "\n",
    "```\n",
    "Input: score = [10,3,8,9,4]\n",
    "Output: [\"Gold Medal\",\"5\",\"Bronze Medal\",\"Silver Medal\",\"4\"]\n",
    "Explanation: The placements are [1st, 5th, 3rd, 2nd, 4th].\n",
    "```"
   ]
  },
  {
   "cell_type": "code",
   "execution_count": 104,
   "id": "f17b9757-e4dc-4c40-97f4-f17b049f2480",
   "metadata": {},
   "outputs": [],
   "source": [
    "from typing import List\n",
    "import heapq\n",
    "\n",
    "class Solution:\n",
    "    def findRelativeRanks(self, score: List[int]) -> List[str]:\n",
    "        score_q = list(map(lambda x: -x, score))\n",
    "        heapq.heapify(score_q)\n",
    "        results = [None]*len(score)\n",
    "\n",
    "        ith = 1\n",
    "        while score_q:\n",
    "            _s = abs(heapq.heappop(score_q))\n",
    "            target_idx = score.index(_s)\n",
    "            if ith == 1:\n",
    "                results[target_idx] = \"Gold Medal\"\n",
    "            elif ith == 2:\n",
    "                results[target_idx] = \"Silver Medal\"\n",
    "            elif ith == 3:\n",
    "                results[target_idx] = \"Bronze Medal\"\n",
    "            else:\n",
    "                results[target_idx] = str(ith)\n",
    "            ith+=1\n",
    "        return results\n",
    "        "
   ]
  },
  {
   "cell_type": "code",
   "execution_count": 105,
   "id": "6ed75026-5a53-472b-9f21-e9dc53298d39",
   "metadata": {},
   "outputs": [
    {
     "data": {
      "text/plain": [
       "['Gold Medal', '5', 'Bronze Medal', 'Silver Medal', '4']"
      ]
     },
     "execution_count": 105,
     "metadata": {},
     "output_type": "execute_result"
    }
   ],
   "source": [
    "sol = Solution()\n",
    "score = [10,3,8,9,4]\n",
    "sol.findRelativeRanks(score)\n"
   ]
  }
 ],
 "metadata": {
  "kernelspec": {
   "display_name": "Python 3 (ipykernel)",
   "language": "python",
   "name": "python3"
  },
  "language_info": {
   "codemirror_mode": {
    "name": "ipython",
    "version": 3
   },
   "file_extension": ".py",
   "mimetype": "text/x-python",
   "name": "python",
   "nbconvert_exporter": "python",
   "pygments_lexer": "ipython3",
   "version": "3.8.6"
  }
 },
 "nbformat": 4,
 "nbformat_minor": 5
}
